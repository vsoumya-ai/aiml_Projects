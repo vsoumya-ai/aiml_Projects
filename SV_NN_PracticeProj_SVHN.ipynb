{
  "cells": [
    {
      "cell_type": "markdown",
      "metadata": {
        "id": "Q91KqmCRu64D"
      },
      "source": [
        "#  **Neural Networks: Street View Housing Number Digit Recognition**\n",
        "\n",
        "\n",
        "Welcome to the project on classification using Artificial Neural Networks. We will work with the Street View Housing Numbers (SVHN) image dataset for this project.\n",
        "\n",
        "--------------\n",
        "### **Context:** \n",
        "--------------\n",
        "\n",
        "One of the most interesting tasks in deep learning is to recognize objects in natural scenes. The ability to process visual information using machine learning algorithms can be very useful as demonstrated in various applications.\n",
        "\n",
        "The SVHN dataset contains over 600,000 labeled digits cropped from street-level photos. It is one of the most popular image recognition datasets. It has been used in neural networks created by Google to improve the map quality by automatically transcribing the address numbers from a patch of pixels. The transcribed number with a known street address helps pinpoint the location of the building it represents.\n",
        "\n",
        "----------------\n",
        "### **Objective:**\n",
        "----------------\n",
        "\n",
        "To build a feed-forward neural network model that can recognize the digits in the images.\n",
        "\n",
        "-------------\n",
        "### **Dataset**\n",
        "-------------\n",
        "Here, we will use a subset of the original data to save some computation time. The dataset is provided as a .h5 file. The basic preprocessing steps have been applied on the dataset."
      ]
    },
    {
      "cell_type": "markdown",
      "metadata": {
        "id": "8z2Z7-OAs8QG"
      },
      "source": [
        "## **Mount the drive**\n",
        "Let us start by mounting the Google drive. You can run the below cell to mount the Google drive."
      ]
    },
    {
      "cell_type": "code",
      "execution_count": null,
      "metadata": {
        "colab": {
          "base_uri": "https://localhost:8080/"
        },
        "id": "03lDyQUuef7z",
        "outputId": "fe071a19-8da6-4835-bdf5-f6f4184640f7"
      },
      "outputs": [
        {
          "output_type": "stream",
          "name": "stdout",
          "text": [
            "Mounted at /content/drive\n"
          ]
        }
      ],
      "source": [
        "from google.colab import drive\n",
        "drive.mount('/content/drive')"
      ]
    },
    {
      "cell_type": "markdown",
      "metadata": {
        "id": "C8U3DUa3eNsT"
      },
      "source": [
        "## **Importing the necessary libraries**"
      ]
    },
    {
      "cell_type": "code",
      "execution_count": null,
      "metadata": {
        "id": "-dVzeuF3eQx1"
      },
      "outputs": [],
      "source": [
        "import numpy as np\n",
        "import pandas as pd\n",
        "import matplotlib.pyplot as plt\n",
        "import seaborn as sns\n",
        "\n",
        "from sklearn.model_selection import train_test_split\n",
        "from sklearn.preprocessing import MinMaxScaler\n",
        "\n",
        "import tensorflow as tf\n",
        "from tensorflow.keras.models import Sequential\n",
        "from tensorflow.keras.layers import Dense, Dropout, Activation, BatchNormalization\n",
        "from tensorflow.keras.utils import to_categorical"
      ]
    },
    {
      "cell_type": "markdown",
      "metadata": {
        "id": "ucnevGLoyKf_"
      },
      "source": [
        "**Let us check the version of tensorflow.**"
      ]
    },
    {
      "cell_type": "code",
      "execution_count": null,
      "metadata": {
        "colab": {
          "base_uri": "https://localhost:8080/"
        },
        "id": "W5as47YxyJVk",
        "outputId": "d3334f08-50a6-4bab-92da-45660bdfc406"
      },
      "outputs": [
        {
          "output_type": "stream",
          "name": "stdout",
          "text": [
            "2.8.0\n"
          ]
        }
      ],
      "source": [
        "print(tf.__version__)"
      ]
    },
    {
      "cell_type": "markdown",
      "metadata": {
        "id": "8lsux2ZwyTTR"
      },
      "source": [
        "## **Load the dataset**\n",
        "- Let us now load the dataset that is available as a .h5 file.\n",
        "- Split the data into train and the test dataset."
      ]
    },
    {
      "cell_type": "code",
      "execution_count": null,
      "metadata": {
        "id": "BApX9qgNsqV0",
        "scrolled": true
      },
      "outputs": [],
      "source": [
        "import h5py\n",
        "\n",
        "# Open the file as read only\n",
        "# User can make changes in the path as required\n",
        "\n",
        "h5f = h5py.File('/content/drive/MyDrive/SVHN_single_grey1.h5', 'r')\n",
        "\n",
        "# Load the training and the test set\n",
        "X_train = h5f['X_train'][:]\n",
        "y_train = h5f['y_train'][:]\n",
        "X_test = h5f['X_test'][:]\n",
        "y_test = h5f['y_test'][:]\n",
        "\n",
        "\n",
        "# Close this file\n",
        "h5f.close()"
      ]
    },
    {
      "cell_type": "markdown",
      "metadata": {
        "id": "hVe0CYpUgj7w"
      },
      "source": [
        "Let's check the number of images in the training and the testing dataset."
      ]
    },
    {
      "cell_type": "code",
      "execution_count": null,
      "metadata": {
        "colab": {
          "base_uri": "https://localhost:8080/"
        },
        "id": "y3lwKpOefkpA",
        "outputId": "abfc7f5a-7a51-4f60-d01b-ccb02283f7a4"
      },
      "outputs": [
        {
          "output_type": "execute_result",
          "data": {
            "text/plain": [
              "(42000, 18000)"
            ]
          },
          "metadata": {},
          "execution_count": 5
        }
      ],
      "source": [
        "len(X_train), len(X_test)"
      ]
    },
    {
      "cell_type": "markdown",
      "metadata": {
        "id": "akTUOfLlgwoM"
      },
      "source": [
        "**Observations:**\n",
        "- There are 42,000 images in the training data and 18,000 images in the testing data. "
      ]
    },
    {
      "cell_type": "markdown",
      "metadata": {
        "id": "kxODV6HKykuc"
      },
      "source": [
        "## **Visualizing images**\n",
        "- Use X_train to visualize the first 10 images.\n",
        "- Use Y_train to print the first 10 labels."
      ]
    },
    {
      "cell_type": "code",
      "execution_count": null,
      "metadata": {
        "colab": {
          "base_uri": "https://localhost:8080/",
          "height": 95
        },
        "id": "Bvsc8ytHsqWD",
        "outputId": "4ae0a61e-e7cc-40b7-c66a-dc2c21d5b318"
      },
      "outputs": [
        {
          "output_type": "display_data",
          "data": {
            "text/plain": [
              "<Figure size 720x72 with 10 Axes>"
            ],
            "image/png": "[encoded data removed]"
          },
          "metadata": {
            "needs_background": "light"
          }
        },
        {
          "output_type": "stream",
          "name": "stdout",
          "text": [
            "label for each of the above image: [2 6 7 4 4 0 3 0 7 3]\n"
          ]
        }
      ],
      "source": [
        "# Visualizing the first 10 images in the dataset and their labels\n",
        "plt.figure(figsize=(10, 1))\n",
        "\n",
        "for i in range(10):\n",
        "    plt.subplot(1, 10, i+1)\n",
        "    plt.imshow(X_train[i], cmap=\"gray\")\n",
        "    plt.axis('off')\n",
        "\n",
        "plt.show()\n",
        "\n",
        "print('label for each of the above image: %s' % (y_train[0:10]))"
      ]
    },
    {
      "cell_type": "markdown",
      "metadata": {
        "id": "kzoyeXHOy80N"
      },
      "source": [
        "## **Data preparation**\n",
        "\n",
        "- Print the shape and the array of pixels for the first image in the training dataset.\n",
        "- Reshape the train and the test dataset because we always have to give a 4D array as input to CNNs.\n",
        "- Normalize the train and the test dataset by dividing by 255.\n",
        "- Print the new shapes of the train and the test dataset.\n",
        "- One-hot encode the target variable."
      ]
    },
    {
      "cell_type": "code",
      "execution_count": null,
      "metadata": {
        "colab": {
          "base_uri": "https://localhost:8080/"
        },
        "id": "NqndzQXng9rL",
        "outputId": "c722812a-ae61-452b-8dd9-77724c77095e"
      },
      "outputs": [
        {
          "output_type": "stream",
          "name": "stdout",
          "text": [
            "Shape: (32, 32)\n",
            "\n",
            "First image:\n",
            " [[ 33.0704  30.2601  26.852  ...  71.4471  58.2204  42.9939]\n",
            " [ 25.2283  25.5533  29.9765 ... 113.0209 103.3639  84.2949]\n",
            " [ 26.2775  22.6137  40.4763 ... 113.3028 121.775  115.4228]\n",
            " ...\n",
            " [ 28.5502  36.212   45.0801 ...  24.1359  25.0927  26.0603]\n",
            " [ 38.4352  26.4733  23.2717 ...  28.1094  29.4683  30.0661]\n",
            " [ 50.2984  26.0773  24.0389 ...  49.6682  50.853   53.0377]]\n"
          ]
        }
      ],
      "source": [
        "# Shape and the array of pixels for the first image\n",
        "print(\"Shape:\", X_train[0].shape)\n",
        "print()\n",
        "print(\"First image:\\n\", X_train[0])"
      ]
    },
    {
      "cell_type": "code",
      "execution_count": null,
      "metadata": {
        "id": "D9YPwf9ysqWU"
      },
      "outputs": [],
      "source": [
        "# Reshaping the dataset to flatten them. We are reshaping the 2D image into 1D array\n",
        "X_train = X_train.reshape(X_train.shape[0], 1024)\n",
        "X_test = X_test.reshape(X_test.shape[0], 1024)"
      ]
    },
    {
      "cell_type": "code",
      "execution_count": null,
      "metadata": {
        "id": "q_yUUTp_mUzB"
      },
      "outputs": [],
      "source": [
        "# Normalize inputs from 0-255 to 0-1\n",
        "X_train = X_train / 255.0\n",
        "X_test = X_test / 255.0"
      ]
    },
    {
      "cell_type": "code",
      "execution_count": null,
      "metadata": {
        "colab": {
          "base_uri": "https://localhost:8080/"
        },
        "id": "t7FSqOpamWkH",
        "outputId": "3ff0a72b-d738-45a0-f0cd-7d75de47a942"
      },
      "outputs": [
        {
          "output_type": "stream",
          "name": "stdout",
          "text": [
            "Training set: (42000, 1024) (42000,)\n",
            "Test set: (18000, 1024) (18000,)\n"
          ]
        }
      ],
      "source": [
        "# New shape \n",
        "print('Training set:', X_train.shape, y_train.shape)\n",
        "print('Test set:', X_test.shape, y_test.shape)"
      ]
    },
    {
      "cell_type": "code",
      "execution_count": null,
      "metadata": {
        "colab": {
          "base_uri": "https://localhost:8080/"
        },
        "id": "zL0lYER4sqWw",
        "outputId": "d0339349-8cb8-48ce-af36-a0aec1d89090"
      },
      "outputs": [
        {
          "output_type": "execute_result",
          "data": {
            "text/plain": [
              "array([[0., 1., 0., ..., 0., 0., 0.],\n",
              "       [0., 0., 0., ..., 1., 0., 0.],\n",
              "       [0., 0., 1., ..., 0., 0., 0.],\n",
              "       ...,\n",
              "       [0., 0., 0., ..., 1., 0., 0.],\n",
              "       [0., 0., 0., ..., 0., 0., 1.],\n",
              "       [0., 0., 1., ..., 0., 0., 0.]], dtype=float32)"
            ]
          },
          "metadata": {},
          "execution_count": 11
        }
      ],
      "source": [
        "# One-hot encode output\n",
        "y_train = to_categorical(y_train)\n",
        "y_test = to_categorical(y_test)\n",
        "\n",
        "# No.of classes\n",
        "y_test"
      ]
    },
    {
      "cell_type": "markdown",
      "metadata": {
        "id": "ViqPOTquCF76"
      },
      "source": [
        "**Observations:**\n",
        "- Notice that each entry of the target variable is a one-hot encoded vector instead of a single label."
      ]
    },
    {
      "cell_type": "markdown",
      "metadata": {
        "id": "yH-gVrzuByNA"
      },
      "source": [
        "## **Model Building**\n",
        "\n",
        "Now, we have done the data preprocessing, let's build an ANN model."
      ]
    },
    {
      "cell_type": "code",
      "execution_count": null,
      "metadata": {
        "id": "BcKRwrGn0XIL"
      },
      "outputs": [],
      "source": [
        "# Fixing the seed for random number generators\n",
        "np.random.seed(42)\n",
        "\n",
        "import random\n",
        "random.seed(42)\n",
        "\n",
        "tf.random.set_seed(42)"
      ]
    },
    {
      "cell_type": "markdown",
      "metadata": {
        "id": "UJDUoaEj1d6e"
      },
      "source": [
        "### **Model Architecture**\n",
        "- Build an sequential model with the following architecture:\n",
        " - First hidden layer with **64 nodes and the relu activation** and the **input shape = (1024, )**\n",
        " - Second hidden layer with **32 nodes and the relu activation**\n",
        " - Output layer with **activation as 'softmax' and number of nodes equal to the number of classes, i.e., 10**\n",
        " - Compile the model with the **loss equal to categorical_crossentropy, optimizer equal to Adam(learning_rate = 0.001), and metric equal to 'accuracy'**.\n",
        "\n",
        "- Print the summary of the model.\n",
        "- Fit on the train data with a **validation split of 0.2, batch size = 128, verbose = 1, and epochs = 20**. Store the model building history to use later for visualization."
      ]
    },
    {
      "cell_type": "code",
      "execution_count": null,
      "metadata": {
        "id": "Cmi81Gr5sqW-"
      },
      "outputs": [],
      "source": [
        "# Define the model\n",
        "from tensorflow.keras import losses\n",
        "from tensorflow.keras import optimizers\n",
        "\n",
        "# Create model\n",
        "model1 = Sequential()  \n",
        "\n",
        "model1.add(Dense(64, activation='relu', input_shape = (1024,)))\n",
        "model1.add(Dense(32, activation='relu'))\n",
        "model1.add(Dense(10, activation='softmax'))\n",
        "\n",
        "# Compile the model\n",
        "adam = optimizers.Adam(learning_rate=0.001)\n",
        "model1.compile(loss=losses.categorical_crossentropy, optimizer=adam, metrics=['accuracy'])"
      ]
    },
    {
      "cell_type": "code",
      "execution_count": null,
      "metadata": {
        "colab": {
          "base_uri": "https://localhost:8080/"
        },
        "id": "ckJsLdmdQadZ",
        "outputId": "9a6d01ad-4e4b-4adb-a1ef-5d12f80d68ec"
      },
      "outputs": [
        {
          "output_type": "stream",
          "name": "stdout",
          "text": [
            "Model: \"sequential\"\n",
            "_________________________________________________________________\n",
            " Layer (type)                Output Shape              Param #   \n",
            "=================================================================\n",
            " dense (Dense)               (None, 64)                65600     \n",
            "                                                                 \n",
            " dense_1 (Dense)             (None, 32)                2080      \n",
            "                                                                 \n",
            " dense_2 (Dense)             (None, 10)                330       \n",
            "                                                                 \n",
            "=================================================================\n",
            "Total params: 68,010\n",
            "Trainable params: 68,010\n",
            "Non-trainable params: 0\n",
            "_________________________________________________________________\n"
          ]
        }
      ],
      "source": [
        "# Model summary\n",
        "model1.summary()"
      ]
    },
    {
      "cell_type": "markdown",
      "metadata": {
        "id": "FQOy-fSxDFYx"
      },
      "source": [
        "**Observations:**\n",
        "- The model has 68,010 parameters.\n",
        "- All the parameters are trainable."
      ]
    },
    {
      "cell_type": "code",
      "execution_count": null,
      "metadata": {
        "colab": {
          "base_uri": "https://localhost:8080/"
        },
        "id": "3Fy3Dif_zcCk",
        "outputId": "0c84873d-0406-42c0-d466-c93247304439"
      },
      "outputs": [
        {
          "output_type": "stream",
          "name": "stdout",
          "text": [
            "Epoch 1/20\n",
            "263/263 [==============================] - 4s 4ms/step - loss: 2.3008 - accuracy: 0.1144 - val_loss: 2.2670 - val_accuracy: 0.1352\n",
            "Epoch 2/20\n",
            "263/263 [==============================] - 1s 3ms/step - loss: 2.1307 - accuracy: 0.2299 - val_loss: 1.9434 - val_accuracy: 0.3024\n",
            "Epoch 3/20\n",
            "263/263 [==============================] - 1s 3ms/step - loss: 1.8054 - accuracy: 0.3639 - val_loss: 1.6951 - val_accuracy: 0.4092\n",
            "Epoch 4/20\n",
            "263/263 [==============================] - 1s 3ms/step - loss: 1.6367 - accuracy: 0.4389 - val_loss: 1.5765 - val_accuracy: 0.4687\n",
            "Epoch 5/20\n",
            "263/263 [==============================] - 1s 3ms/step - loss: 1.5370 - accuracy: 0.4800 - val_loss: 1.4827 - val_accuracy: 0.5077\n",
            "Epoch 6/20\n",
            "263/263 [==============================] - 1s 3ms/step - loss: 1.4697 - accuracy: 0.5068 - val_loss: 1.4335 - val_accuracy: 0.5269\n",
            "Epoch 7/20\n",
            "263/263 [==============================] - 1s 3ms/step - loss: 1.4359 - accuracy: 0.5207 - val_loss: 1.4063 - val_accuracy: 0.5386\n",
            "Epoch 8/20\n",
            "263/263 [==============================] - 1s 3ms/step - loss: 1.4061 - accuracy: 0.5334 - val_loss: 1.3790 - val_accuracy: 0.5501\n",
            "Epoch 9/20\n",
            "263/263 [==============================] - 1s 3ms/step - loss: 1.3800 - accuracy: 0.5468 - val_loss: 1.3579 - val_accuracy: 0.5590\n",
            "Epoch 10/20\n",
            "263/263 [==============================] - 1s 3ms/step - loss: 1.3612 - accuracy: 0.5553 - val_loss: 1.3392 - val_accuracy: 0.5688\n",
            "Epoch 11/20\n",
            "263/263 [==============================] - 1s 3ms/step - loss: 1.3399 - accuracy: 0.5690 - val_loss: 1.3638 - val_accuracy: 0.5569\n",
            "Epoch 12/20\n",
            "263/263 [==============================] - 1s 3ms/step - loss: 1.3186 - accuracy: 0.5778 - val_loss: 1.3065 - val_accuracy: 0.5879\n",
            "Epoch 13/20\n",
            "263/263 [==============================] - 1s 3ms/step - loss: 1.3025 - accuracy: 0.5879 - val_loss: 1.3119 - val_accuracy: 0.5818\n",
            "Epoch 14/20\n",
            "263/263 [==============================] - 1s 3ms/step - loss: 1.2831 - accuracy: 0.5951 - val_loss: 1.2772 - val_accuracy: 0.6001\n",
            "Epoch 15/20\n",
            "263/263 [==============================] - 1s 3ms/step - loss: 1.2642 - accuracy: 0.6021 - val_loss: 1.2839 - val_accuracy: 0.5877\n",
            "Epoch 16/20\n",
            "263/263 [==============================] - 1s 3ms/step - loss: 1.2583 - accuracy: 0.6060 - val_loss: 1.2592 - val_accuracy: 0.6062\n",
            "Epoch 17/20\n",
            "263/263 [==============================] - 1s 3ms/step - loss: 1.2459 - accuracy: 0.6103 - val_loss: 1.2521 - val_accuracy: 0.6061\n",
            "Epoch 18/20\n",
            "263/263 [==============================] - 1s 3ms/step - loss: 1.2375 - accuracy: 0.6117 - val_loss: 1.2350 - val_accuracy: 0.6148\n",
            "Epoch 19/20\n",
            "263/263 [==============================] - 1s 3ms/step - loss: 1.2308 - accuracy: 0.6143 - val_loss: 1.2356 - val_accuracy: 0.6155\n",
            "Epoch 20/20\n",
            "263/263 [==============================] - 1s 3ms/step - loss: 1.2240 - accuracy: 0.6166 - val_loss: 1.2246 - val_accuracy: 0.6210\n"
          ]
        }
      ],
      "source": [
        "# Fit the model\n",
        "history_model_1 = model1.fit(X_train, y_train, validation_split=0.2, epochs=20, batch_size=128, verbose=1)"
      ]
    },
    {
      "cell_type": "markdown",
      "metadata": {
        "id": "tKOckG-KPyLg"
      },
      "source": [
        "### **Plotting the validation and training accuracies**"
      ]
    },
    {
      "cell_type": "code",
      "execution_count": null,
      "metadata": {
        "colab": {
          "base_uri": "https://localhost:8080/",
          "height": 497
        },
        "id": "lt77zgGMP4yw",
        "outputId": "1d44de41-deaf-40b1-db24-4b47c0733b51"
      },
      "outputs": [
        {
          "output_type": "display_data",
          "data": {
            "text/plain": [
              "<Figure size 576x576 with 1 Axes>"
            ],
            "image/png": "[encoded data removed]"
          },
          "metadata": {
            "needs_background": "light"
          }
        }
      ],
      "source": [
        "# Plotting the accuracies\n",
        "dict_hist = history_model_1.history\n",
        "list_ep = [i for i in range(1,21)]\n",
        "\n",
        "plt.figure(figsize = (8,8))\n",
        "plt.plot(list_ep,dict_hist['accuracy'],ls = '--', label = 'accuracy')\n",
        "plt.plot(list_ep,dict_hist['val_accuracy'],ls = '--', label = 'val_accuracy')\n",
        "plt.ylabel('Accuracy')\n",
        "plt.xlabel('Epochs')\n",
        "plt.legend()\n",
        "plt.show()"
      ]
    },
    {
      "cell_type": "markdown",
      "metadata": {
        "id": "pGBbQpLONX7k"
      },
      "source": [
        "**Observations:**\n",
        "\n",
        "- The accuracy on the train and the validation set is almost similar. We can say that model is giving a generalized performance.\n",
        "- The plot shows that training accuracy is increasing with the number of epochs, but the validation accuracy has started to fluctuate after 10 epochs. However, the overall validation accuracy is also increasing with epochs."
      ]
    },
    {
      "cell_type": "markdown",
      "metadata": {
        "id": "z0qgLMBZm5-K"
      },
      "source": [
        "**Let's build one more model with higher complexity and see if we can improve the performance of the model.**\n",
        "\n",
        "First, we need to clear the previous model's history from the Keras backend. Also, let's fix the seed again after clearing the backend."
      ]
    },
    {
      "cell_type": "code",
      "execution_count": null,
      "metadata": {
        "id": "y98BpLxsok_H"
      },
      "outputs": [],
      "source": [
        "# Clearing backend\n",
        "from tensorflow.keras import backend\n",
        "backend.clear_session()"
      ]
    },
    {
      "cell_type": "code",
      "execution_count": null,
      "metadata": {
        "id": "HbKi93HTolGW"
      },
      "outputs": [],
      "source": [
        "# Fixing the seed for random number generators\n",
        "np.random.seed(42)\n",
        "\n",
        "import random\n",
        "random.seed(42)\n",
        "\n",
        "tf.random.set_seed(42)"
      ]
    },
    {
      "cell_type": "markdown",
      "metadata": {
        "id": "lT6o3TIKuCtk"
      },
      "source": [
        "### **Second Model Architecture**\n",
        "- Building a sequential model with the following architecture\n",
        " - First hidden layer with **256 nodes and the relu activation** and the **input shape = (1024, )**\n",
        " - Second hidden layer with **128 nodes and the relu activation**\n",
        " - Add the **Dropout layer with the rate equal to 0.2**\n",
        " - Third hidden layer with **64 nodes and the relu activation**\n",
        " - Fourth hidden layer with **64 nodes and the relu activation**\n",
        " - Fifth hidden layer with **32 nodes and the relu activation**\n",
        " - Add the **BatchNormalization layer**\n",
        " - Output layer with **activation as 'softmax' and number of nodes equal to the number of classes, i.e., 10**\n",
        " - Compile the model with the **loss equal to categorical_crossentropy, optimizer equal to Adam(learning_rate = 0.0005), and metric equal to 'accuracy'**. Do not fit the model here, just return the compiled model.\n",
        "- Print the summary of the model.\n",
        "- Fit on the train data with a **validation split of 0.2, batch size = 128, verbose = 1, and epochs = 30**. Store the model building history to use later for visualization."
      ]
    },
    {
      "cell_type": "code",
      "execution_count": null,
      "metadata": {
        "id": "EEPYLFIPnSDP"
      },
      "outputs": [],
      "source": [
        "# Define model\n",
        "\n",
        "from tensorflow.keras import losses\n",
        "from tensorflow.keras import optimizers\n",
        "\n",
        "# Create model\n",
        "model2 = Sequential()  \n",
        "\n",
        "model2.add(Dense(256, activation='relu', input_shape = (1024,)))\n",
        "model2.add(Dense(128, activation='relu'))\n",
        "model2.add(Dropout(0.2))\n",
        "model2.add(Dense(64, activation='relu'))\n",
        "model2.add(Dense(64, activation='relu'))\n",
        "model2.add(Dense(32, activation='relu'))\n",
        "model2.add(BatchNormalization())\n",
        "model2.add(Dense(10, activation='softmax'))\n",
        "\n",
        "# Compile model\n",
        "adam = optimizers.Adam(learning_rate=0.0005)\n",
        "model2.compile(loss=losses.categorical_crossentropy, optimizer=adam, metrics=['accuracy'])"
      ]
    },
    {
      "cell_type": "code",
      "execution_count": null,
      "metadata": {
        "colab": {
          "base_uri": "https://localhost:8080/"
        },
        "id": "gz_6SVrU2swZ",
        "outputId": "8db97885-d4dc-471d-9e6b-6d2bf30ed0ac"
      },
      "outputs": [
        {
          "output_type": "stream",
          "name": "stdout",
          "text": [
            "Model: \"sequential\"\n",
            "_________________________________________________________________\n",
            " Layer (type)                Output Shape              Param #   \n",
            "=================================================================\n",
            " dense (Dense)               (None, 256)               262400    \n",
            "                                                                 \n",
            " dense_1 (Dense)             (None, 128)               32896     \n",
            "                                                                 \n",
            " dropout (Dropout)           (None, 128)               0         \n",
            "                                                                 \n",
            " dense_2 (Dense)             (None, 64)                8256      \n",
            "                                                                 \n",
            " dense_3 (Dense)             (None, 64)                4160      \n",
            "                                                                 \n",
            " dense_4 (Dense)             (None, 32)                2080      \n",
            "                                                                 \n",
            " batch_normalization (BatchN  (None, 32)               128       \n",
            " ormalization)                                                   \n",
            "                                                                 \n",
            " dense_5 (Dense)             (None, 10)                330       \n",
            "                                                                 \n",
            "=================================================================\n",
            "Total params: 310,250\n",
            "Trainable params: 310,186\n",
            "Non-trainable params: 64\n",
            "_________________________________________________________________\n"
          ]
        }
      ],
      "source": [
        "# Model summary\n",
        "model2.summary()"
      ]
    },
    {
      "cell_type": "markdown",
      "metadata": {
        "id": "j2abNMQJ24JR"
      },
      "source": [
        "**Observations:**\n",
        "\n",
        "- The total number of parameters has increased by approximately 4.5 times of the previous model, i.e., the second model is much more complex than the first model.\n",
        "- There are 64 non-trainable parameters. They belong to the batch normalization layer.\n",
        "\n"
      ]
    },
    {
      "cell_type": "markdown",
      "source": [
        "**Let's fit the model and plot the accuracies of the training and the validation data.**"
      ],
      "metadata": {
        "id": "yz0v9MHzopkK"
      }
    },
    {
      "cell_type": "code",
      "execution_count": null,
      "metadata": {
        "colab": {
          "base_uri": "https://localhost:8080/"
        },
        "id": "IQ0Sc4R-y-uu",
        "outputId": "11ab302d-4191-4119-fa00-dc0bc0e17f07"
      },
      "outputs": [
        {
          "output_type": "stream",
          "name": "stdout",
          "text": [
            "Epoch 1/30\n",
            "263/263 [==============================] - 3s 5ms/step - loss: 2.3507 - accuracy: 0.0979 - val_loss: 2.3047 - val_accuracy: 0.1106\n",
            "Epoch 2/30\n",
            "263/263 [==============================] - 1s 4ms/step - loss: 2.1886 - accuracy: 0.1686 - val_loss: 2.0674 - val_accuracy: 0.2562\n",
            "Epoch 3/30\n",
            "263/263 [==============================] - 1s 4ms/step - loss: 1.7453 - accuracy: 0.3871 - val_loss: 1.5670 - val_accuracy: 0.4777\n",
            "Epoch 4/30\n",
            "263/263 [==============================] - 1s 5ms/step - loss: 1.4380 - accuracy: 0.5112 - val_loss: 1.3193 - val_accuracy: 0.5718\n",
            "Epoch 5/30\n",
            "263/263 [==============================] - 1s 4ms/step - loss: 1.2700 - accuracy: 0.5784 - val_loss: 1.1708 - val_accuracy: 0.6149\n",
            "Epoch 6/30\n",
            "263/263 [==============================] - 1s 4ms/step - loss: 1.1703 - accuracy: 0.6196 - val_loss: 1.0695 - val_accuracy: 0.6592\n",
            "Epoch 7/30\n",
            "263/263 [==============================] - 1s 5ms/step - loss: 1.1118 - accuracy: 0.6419 - val_loss: 1.0547 - val_accuracy: 0.6620\n",
            "Epoch 8/30\n",
            "263/263 [==============================] - 1s 4ms/step - loss: 1.0657 - accuracy: 0.6578 - val_loss: 1.0521 - val_accuracy: 0.6573\n",
            "Epoch 9/30\n",
            "263/263 [==============================] - 1s 4ms/step - loss: 1.0215 - accuracy: 0.6730 - val_loss: 0.9803 - val_accuracy: 0.6917\n",
            "Epoch 10/30\n",
            "263/263 [==============================] - 1s 4ms/step - loss: 0.9898 - accuracy: 0.6836 - val_loss: 1.0238 - val_accuracy: 0.6787\n",
            "Epoch 11/30\n",
            "263/263 [==============================] - 1s 4ms/step - loss: 0.9717 - accuracy: 0.6895 - val_loss: 0.9391 - val_accuracy: 0.7024\n",
            "Epoch 12/30\n",
            "263/263 [==============================] - 1s 4ms/step - loss: 0.9396 - accuracy: 0.7002 - val_loss: 0.8684 - val_accuracy: 0.7246\n",
            "Epoch 13/30\n",
            "263/263 [==============================] - 1s 4ms/step - loss: 0.9093 - accuracy: 0.7135 - val_loss: 0.9138 - val_accuracy: 0.7121\n",
            "Epoch 14/30\n",
            "263/263 [==============================] - 1s 4ms/step - loss: 0.8993 - accuracy: 0.7153 - val_loss: 0.8496 - val_accuracy: 0.7332\n",
            "Epoch 15/30\n",
            "263/263 [==============================] - 1s 4ms/step - loss: 0.8756 - accuracy: 0.7225 - val_loss: 0.8766 - val_accuracy: 0.7195\n",
            "Epoch 16/30\n",
            "263/263 [==============================] - 1s 4ms/step - loss: 0.8445 - accuracy: 0.7337 - val_loss: 0.8252 - val_accuracy: 0.7432\n",
            "Epoch 17/30\n",
            "263/263 [==============================] - 1s 4ms/step - loss: 0.8383 - accuracy: 0.7357 - val_loss: 0.8077 - val_accuracy: 0.7494\n",
            "Epoch 18/30\n",
            "263/263 [==============================] - 1s 4ms/step - loss: 0.8253 - accuracy: 0.7374 - val_loss: 0.7905 - val_accuracy: 0.7524\n",
            "Epoch 19/30\n",
            "263/263 [==============================] - 1s 4ms/step - loss: 0.8066 - accuracy: 0.7450 - val_loss: 0.7995 - val_accuracy: 0.7437\n",
            "Epoch 20/30\n",
            "263/263 [==============================] - 1s 4ms/step - loss: 0.8033 - accuracy: 0.7452 - val_loss: 0.7711 - val_accuracy: 0.7585\n",
            "Epoch 21/30\n",
            "263/263 [==============================] - 1s 4ms/step - loss: 0.7944 - accuracy: 0.7502 - val_loss: 0.7974 - val_accuracy: 0.7496\n",
            "Epoch 22/30\n",
            "263/263 [==============================] - 1s 4ms/step - loss: 0.7780 - accuracy: 0.7538 - val_loss: 0.7902 - val_accuracy: 0.7532\n",
            "Epoch 23/30\n",
            "263/263 [==============================] - 1s 4ms/step - loss: 0.7677 - accuracy: 0.7565 - val_loss: 0.7841 - val_accuracy: 0.7510\n",
            "Epoch 24/30\n",
            "263/263 [==============================] - 1s 4ms/step - loss: 0.7675 - accuracy: 0.7582 - val_loss: 0.7841 - val_accuracy: 0.7602\n",
            "Epoch 25/30\n",
            "263/263 [==============================] - 1s 4ms/step - loss: 0.7522 - accuracy: 0.7607 - val_loss: 0.7625 - val_accuracy: 0.7635\n",
            "Epoch 26/30\n",
            "263/263 [==============================] - 1s 4ms/step - loss: 0.7393 - accuracy: 0.7642 - val_loss: 0.7293 - val_accuracy: 0.7726\n",
            "Epoch 27/30\n",
            "263/263 [==============================] - 1s 4ms/step - loss: 0.7293 - accuracy: 0.7700 - val_loss: 0.7446 - val_accuracy: 0.7664\n",
            "Epoch 28/30\n",
            "263/263 [==============================] - 1s 4ms/step - loss: 0.7392 - accuracy: 0.7662 - val_loss: 0.7721 - val_accuracy: 0.7593\n",
            "Epoch 29/30\n",
            "263/263 [==============================] - 1s 4ms/step - loss: 0.7196 - accuracy: 0.7713 - val_loss: 0.7433 - val_accuracy: 0.7660\n",
            "Epoch 30/30\n",
            "263/263 [==============================] - 1s 5ms/step - loss: 0.7184 - accuracy: 0.7721 - val_loss: 0.7046 - val_accuracy: 0.7793\n"
          ]
        }
      ],
      "source": [
        "# Fit the model\n",
        "history_model_2 = model2.fit(X_train, y_train, validation_split=0.2, epochs=30, batch_size=128, verbose=1)"
      ]
    },
    {
      "cell_type": "markdown",
      "metadata": {
        "id": "6UjEIbPM0XIX"
      },
      "source": [
        "### **Plotting the validation and training accuracies**"
      ]
    },
    {
      "cell_type": "code",
      "execution_count": null,
      "metadata": {
        "colab": {
          "base_uri": "https://localhost:8080/",
          "height": 497
        },
        "id": "01ig6BrF1KVy",
        "outputId": "917fd8df-167c-4b6e-a1d0-ae4c1ba01dfb"
      },
      "outputs": [
        {
          "output_type": "display_data",
          "data": {
            "text/plain": [
              "<Figure size 576x576 with 1 Axes>"
            ],
            "image/png": "[encoded data removed]"
          },
          "metadata": {
            "needs_background": "light"
          }
        }
      ],
      "source": [
        "# Plotting the accuracies\n",
        "\n",
        "dict_hist = history_model_2.history\n",
        "list_ep = [i for i in range(1,31)]\n",
        "\n",
        "plt.figure(figsize = (8,8))\n",
        "plt.plot(list_ep,dict_hist['accuracy'],ls = '--', label = 'accuracy')\n",
        "plt.plot(list_ep,dict_hist['val_accuracy'],ls = '--', label = 'val_accuracy')\n",
        "plt.ylabel('Accuracy')\n",
        "plt.xlabel('Epochs')\n",
        "plt.legend()\n",
        "plt.show()"
      ]
    },
    {
      "cell_type": "markdown",
      "metadata": {
        "id": "ePryRdP8WkxK"
      },
      "source": [
        "**Observations:**\n",
        "\n",
        "- The second model which is more complex than the previous model is performing significantly better.\n",
        "- The train and validation accuracy has improved significantly.\n",
        "- The validation accuracy is slightly higher than training accuracy, which implies that the model complexity can be further increased.\n",
        "- The plot shows that the train and validation accuracies have an upward trend even after 30 epochs which implies that the number of epochs can be increased."
      ]
    },
    {
      "cell_type": "markdown",
      "metadata": {
        "id": "8kuXx9Bvu00f"
      },
      "source": [
        "## **Predictions on the test data**\n",
        "\n",
        "- Make predictions on the test set using the second model.\n",
        "- Print the obtained results using the classification report and the confusion matrix.\n",
        "- Final observations on the obtained results."
      ]
    },
    {
      "cell_type": "code",
      "execution_count": null,
      "metadata": {
        "id": "xbWMEtTj5Ad0"
      },
      "outputs": [],
      "source": [
        "test_pred = model2.predict(X_test)\n",
        "\n",
        "test_pred = np.argmax(test_pred, axis=-1)"
      ]
    },
    {
      "cell_type": "markdown",
      "metadata": {
        "id": "i3li8Ib08yts"
      },
      "source": [
        "**Note:** Earlier, we noticed that each entry of the test data is a one-hot encoded vector but to print the classification report and confusion matrix, we must convert each entry of y_test to a single label."
      ]
    },
    {
      "cell_type": "code",
      "execution_count": null,
      "metadata": {
        "id": "NByu7uAQ8x9P"
      },
      "outputs": [],
      "source": [
        "# Converting each entry to single label from one-hot encoded vector\n",
        "y_test = np.argmax(y_test, axis=-1)"
      ]
    },
    {
      "cell_type": "code",
      "execution_count": null,
      "metadata": {
        "colab": {
          "base_uri": "https://localhost:8080/",
          "height": 629
        },
        "id": "xRddeJ-3EHT1",
        "outputId": "70f6e926-c692-4fc9-adf4-80728812788d"
      },
      "outputs": [
        {
          "output_type": "stream",
          "name": "stdout",
          "text": [
            "              precision    recall  f1-score   support\n",
            "\n",
            "           0       0.79      0.80      0.80      1814\n",
            "           1       0.75      0.83      0.79      1828\n",
            "           2       0.82      0.78      0.80      1803\n",
            "           3       0.79      0.71      0.75      1719\n",
            "           4       0.77      0.85      0.81      1812\n",
            "           5       0.77      0.73      0.75      1768\n",
            "           6       0.75      0.80      0.77      1832\n",
            "           7       0.84      0.81      0.83      1808\n",
            "           8       0.76      0.72      0.74      1812\n",
            "           9       0.78      0.75      0.76      1804\n",
            "\n",
            "    accuracy                           0.78     18000\n",
            "   macro avg       0.78      0.78      0.78     18000\n",
            "weighted avg       0.78      0.78      0.78     18000\n",
            "\n"
          ]
        },
        {
          "output_type": "display_data",
          "data": {
            "text/plain": [
              "<Figure size 576x360 with 2 Axes>"
            ],
            "image/png": "[encoded data removed]"
          },
          "metadata": {
            "needs_background": "light"
          }
        }
      ],
      "source": [
        "# Importing required functions\n",
        "from sklearn.metrics import classification_report\n",
        "from sklearn.metrics import confusion_matrix\n",
        "\n",
        "# Printing the classification report\n",
        "print(classification_report(y_test, test_pred))\n",
        "\n",
        "# Plotting the heatmap using confusion matrix\n",
        "cm = confusion_matrix(y_test, test_pred)\n",
        "plt.figure(figsize=(8,5))\n",
        "sns.heatmap(cm, annot=True,  fmt='.0f')\n",
        "plt.ylabel('Actual')\n",
        "plt.xlabel('Predicted')\n",
        "plt.show()"
      ]
    },
    {
      "cell_type": "markdown",
      "metadata": {
        "id": "DjErl4GA2u9s"
      },
      "source": [
        "#### **Observations:**\n",
        "\n",
        "- The accuracy is 78% on the test set. This is comparable with the results on the train and the validation sets which implies that the model is giving a generalized performance. \n",
        "- The recall values for all the digits are higher than 70% with 3 having the least recall values of 71%.\n",
        "- The confusion matrix shows that the model has confused 5 and 6 digits with digit 6 and 4 the most number of times.\n",
        "- The highest recall of about 85% is for digit 4 i.e. the model can identify 85% of images with digit 4.\n",
        "- The precision values have less variation (from 75% to 84%) than recall (from 71% to 85%).\n",
        "- The least precision of 75% is for digit 1 and 6. The confusion matrix shows that the model confused it with digit 4 the most number of times. \n",
        "- This indicates that the model is not able to identify small variations among digits.\n",
        "\n",
        "**Note:** We can try tuning this model further or increase the complexity of the model and see if we can get better results. As this is image data, we can also try convolutional neural networks which might be able to identify small variations in the orientation of digits and give better results than simple feed-forward neural networks."
      ]
    }
  ],
  "metadata": {
    "accelerator": "GPU",
    "colab": {
      "collapsed_sections": [],
      "name": "NN_Practice_Project_SVHN.ipynb",
      "provenance": []
    },
    "kernelspec": {
      "display_name": "Python 3",
      "language": "python",
      "name": "python3"
    },
    "language_info": {
      "codemirror_mode": {
        "name": "ipython",
        "version": 3
      },
      "file_extension": ".py",
      "mimetype": "text/x-python",
      "name": "python",
      "nbconvert_exporter": "python",
      "pygments_lexer": "ipython3",
      "version": "3.8.3"
    }
  },
  "nbformat": 4,
  "nbformat_minor": 0
}